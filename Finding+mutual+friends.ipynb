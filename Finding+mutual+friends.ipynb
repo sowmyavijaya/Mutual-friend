{
 "cells": [
  {
   "cell_type": "code",
   "execution_count": 30,
   "metadata": {
    "collapsed": true
   },
   "outputs": [],
   "source": [
    "users = [\n",
    "    { \"id\": 0, \"name\": \"Anand\" },\n",
    "    { \"id\": 1, \"name\": \"Abhishek\" },\n",
    "    { \"id\": 2, \"name\": \"Sowmya\" },\n",
    "    { \"id\": 3, \"name\": \"Niranjan\" },\n",
    "    { \"id\": 4, \"name\": \"Swathi\" },\n",
    "    { \"id\": 5, \"name\": \"Netra\" },\n",
    "    { \"id\": 6, \"name\": \"Suhas\" },\n",
    "    { \"id\": 7, \"name\": \"Rohini\" },\n",
    "    { \"id\": 8, \"name\": \"Karthik\" },\n",
    "    { \"id\": 9, \"name\": \"Bindhu\" },\n",
    "    { \"id\": 10, \"name\": \"Thanu\" },\n",
    "    { \"id\": 11, \"name\": \"Rakesh\" },\n",
    "    { \"id\": 12, \"name\": \"Nirmal\" },\n",
    "    { \"id\": 13, \"name\": \"Jothi\" },\n",
    "    { \"id\": 14, \"name\": \"Raamu\" },\n",
    "    { \"id\": 15, \"name\": \"Jaanu\" }\n",
    "    \n",
    "    \n",
    "]"
   ]
  },
  {
   "cell_type": "code",
   "execution_count": 31,
   "metadata": {
    "collapsed": true
   },
   "outputs": [],
   "source": [
    "connections= [(0, 1), (0, 2), (1, 2), (1, 3), (2, 3), (3, 4),\n",
    "               (4, 5), (5, 6), (5, 7), (6, 8), (7, 8), (8, 9),(15,3),(12,10)]"
   ]
  },
  {
   "cell_type": "code",
   "execution_count": 32,
   "metadata": {
    "collapsed": true
   },
   "outputs": [],
   "source": [
    "for user in users:\n",
    "    user[\"friends\"]=[]"
   ]
  },
  {
   "cell_type": "code",
   "execution_count": 33,
   "metadata": {},
   "outputs": [
    {
     "data": {
      "text/plain": [
       "[{'friends': [], 'id': 0, 'name': 'Anand'},\n",
       " {'friends': [], 'id': 1, 'name': 'Abhishek'},\n",
       " {'friends': [], 'id': 2, 'name': 'Sowmya'},\n",
       " {'friends': [], 'id': 3, 'name': 'Niranjan'},\n",
       " {'friends': [], 'id': 4, 'name': 'Swathi'},\n",
       " {'friends': [], 'id': 5, 'name': 'Netra'},\n",
       " {'friends': [], 'id': 6, 'name': 'Suhas'},\n",
       " {'friends': [], 'id': 7, 'name': 'Rohini'},\n",
       " {'friends': [], 'id': 8, 'name': 'Karthik'},\n",
       " {'friends': [], 'id': 9, 'name': 'Bindhu'},\n",
       " {'friends': [], 'id': 10, 'name': 'Thanu'},\n",
       " {'friends': [], 'id': 11, 'name': 'Rakesh'},\n",
       " {'friends': [], 'id': 12, 'name': 'Nirmal'},\n",
       " {'friends': [], 'id': 13, 'name': 'Jothi'},\n",
       " {'friends': [], 'id': 14, 'name': 'Raamu'},\n",
       " {'friends': [], 'id': 15, 'name': 'Jaanu'}]"
      ]
     },
     "execution_count": 33,
     "metadata": {},
     "output_type": "execute_result"
    }
   ],
   "source": [
    "users"
   ]
  },
  {
   "cell_type": "code",
   "execution_count": 57,
   "metadata": {},
   "outputs": [],
   "source": [
    "for i,j in connections:\n",
    "    users[i][\"friends\"].append(users[j])\n",
    "    users[j][\"friends\"].append(users[i])"
   ]
  },
  {
   "cell_type": "code",
   "execution_count": 35,
   "metadata": {
    "collapsed": true
   },
   "outputs": [],
   "source": [
    "def number_of_friends(user):\n",
    "    \"\"\"how many friends does _user_ have?\"\"\"\n",
    "    return len(user[\"friends\"])"
   ]
  },
  {
   "cell_type": "code",
   "execution_count": 36,
   "metadata": {},
   "outputs": [
    {
     "data": {
      "text/plain": [
       "28"
      ]
     },
     "execution_count": 36,
     "metadata": {},
     "output_type": "execute_result"
    }
   ],
   "source": [
    "total_connections = sum(number_of_friends(user) for user in users)\n",
    "total_connections"
   ]
  },
  {
   "cell_type": "code",
   "execution_count": 37,
   "metadata": {},
   "outputs": [
    {
     "data": {
      "text/plain": [
       "1.75"
      ]
     },
     "execution_count": 37,
     "metadata": {},
     "output_type": "execute_result"
    }
   ],
   "source": [
    "avg_connections = total_connections/len(users)\n",
    "avg_connections"
   ]
  },
  {
   "cell_type": "code",
   "execution_count": 39,
   "metadata": {
    "collapsed": true
   },
   "outputs": [],
   "source": [
    "#fetching friends of a friend by id\n",
    "def friends_of_friend_ids_bad(user):\n",
    "    return[foaf[\"id\"] \n",
    "          for friend in user[\"friends\"] #for each of user's friends\n",
    "          for foaf in friend[\"friends\"]] #get each of their friends"
   ]
  },
  {
   "cell_type": "code",
   "execution_count": 50,
   "metadata": {},
   "outputs": [],
   "source": [
    "from collections import Counter\n",
    "\n",
    "def not_same(user,other_user):\n",
    "      \"\"\"two users are not the same if they have different ids\"\"\"\n",
    "    return user[\"id\"] != other_user[\"id\"]"
   ]
  },
  {
   "cell_type": "code",
   "execution_count": 52,
   "metadata": {},
   "outputs": [],
   "source": [
    "def not_friends(user,other_user):\n",
    "    \"\"\"other_user is not a friend if he's not in user[\"friends\"];\n",
    "    that is, if he's not_the_same as all the people in user[\"friends\"]\"\"\"\n",
    "    return all(not_same(friend, other_user)\n",
    "               for friend in user[\"friends\"])"
   ]
  },
  {
   "cell_type": "code",
   "execution_count": 53,
   "metadata": {},
   "outputs": [],
   "source": [
    "def friends_of_friend_ids(user):\n",
    "    return Counter(foaf[\"id\"]\n",
    "                  for friend in user[\"friends\"] #for each of my friends\n",
    "                  for foaf in friend[\"friends\"] #count their friends\n",
    "                  if not_same(user,foaf) #who aren't me\n",
    "                  and not_friends(user,foaf)) #and aren't my friends"
   ]
  },
  {
   "cell_type": "code",
   "execution_count": 54,
   "metadata": {},
   "outputs": [
    {
     "name": "stdout",
     "output_type": "stream",
     "text": [
      "Counter({3: 4, 0: 2, 2: 1, 1: 1, 5: 1})\n"
     ]
    }
   ],
   "source": [
    "print(not_same_not_friends(users[3]))  ##MUTUAL FRIENDS"
   ]
  },
  {
   "cell_type": "code",
   "execution_count": null,
   "metadata": {
    "collapsed": true
   },
   "outputs": [],
   "source": []
  }
 ],
 "metadata": {
  "kernelspec": {
   "display_name": "Python 3",
   "language": "python",
   "name": "python3"
  },
  "language_info": {
   "codemirror_mode": {
    "name": "ipython",
    "version": 3
   },
   "file_extension": ".py",
   "mimetype": "text/x-python",
   "name": "python",
   "nbconvert_exporter": "python",
   "pygments_lexer": "ipython3",
   "version": "3.6.3"
  }
 },
 "nbformat": 4,
 "nbformat_minor": 2
}
